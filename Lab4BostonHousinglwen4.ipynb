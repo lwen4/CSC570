{
 "cells": [
  {
   "cell_type": "code",
   "execution_count": 68,
   "metadata": {},
   "outputs": [],
   "source": [
    "from sklearn import datasets\n",
    "import pandas as pd\n",
    "from sklearn.preprocessing import StandardScaler\n",
    "from sklearn.cross_validation import train_test_split\n",
    "from sklearn.metrics import mean_squared_error\n",
    "from sklearn.metrics import r2_score\n",
    "from sklearn.linear_model import LinearRegression"
   ]
  },
  {
   "cell_type": "code",
   "execution_count": 69,
   "metadata": {},
   "outputs": [
    {
     "name": "stdout",
     "output_type": "stream",
     "text": [
      "Boston House Prices dataset\n",
      "===========================\n",
      "\n",
      "Notes\n",
      "------\n",
      "Data Set Characteristics:  \n",
      "\n",
      "    :Number of Instances: 506 \n",
      "\n",
      "    :Number of Attributes: 13 numeric/categorical predictive\n",
      "    \n",
      "    :Median Value (attribute 14) is usually the target\n",
      "\n",
      "    :Attribute Information (in order):\n",
      "        - CRIM     per capita crime rate by town\n",
      "        - ZN       proportion of residential land zoned for lots over 25,000 sq.ft.\n",
      "        - INDUS    proportion of non-retail business acres per town\n",
      "        - CHAS     Charles River dummy variable (= 1 if tract bounds river; 0 otherwise)\n",
      "        - NOX      nitric oxides concentration (parts per 10 million)\n",
      "        - RM       average number of rooms per dwelling\n",
      "        - AGE      proportion of owner-occupied units built prior to 1940\n",
      "        - DIS      weighted distances to five Boston employment centres\n",
      "        - RAD      index of accessibility to radial highways\n",
      "        - TAX      full-value property-tax rate per $10,000\n",
      "        - PTRATIO  pupil-teacher ratio by town\n",
      "        - B        1000(Bk - 0.63)^2 where Bk is the proportion of blacks by town\n",
      "        - LSTAT    % lower status of the population\n",
      "        - MEDV     Median value of owner-occupied homes in $1000's\n",
      "\n",
      "    :Missing Attribute Values: None\n",
      "\n",
      "    :Creator: Harrison, D. and Rubinfeld, D.L.\n",
      "\n",
      "This is a copy of UCI ML housing dataset.\n",
      "http://archive.ics.uci.edu/ml/datasets/Housing\n",
      "\n",
      "\n",
      "This dataset was taken from the StatLib library which is maintained at Carnegie Mellon University.\n",
      "\n",
      "The Boston house-price data of Harrison, D. and Rubinfeld, D.L. 'Hedonic\n",
      "prices and the demand for clean air', J. Environ. Economics & Management,\n",
      "vol.5, 81-102, 1978.   Used in Belsley, Kuh & Welsch, 'Regression diagnostics\n",
      "...', Wiley, 1980.   N.B. Various transformations are used in the table on\n",
      "pages 244-261 of the latter.\n",
      "\n",
      "The Boston house-price data has been used in many machine learning papers that address regression\n",
      "problems.   \n",
      "     \n",
      "**References**\n",
      "\n",
      "   - Belsley, Kuh & Welsch, 'Regression diagnostics: Identifying Influential Data and Sources of Collinearity', Wiley, 1980. 244-261.\n",
      "   - Quinlan,R. (1993). Combining Instance-Based and Model-Based Learning. In Proceedings on the Tenth International Conference of Machine Learning, 236-243, University of Massachusetts, Amherst. Morgan Kaufmann.\n",
      "   - many more! (see http://archive.ics.uci.edu/ml/datasets/Housing)\n",
      "\n"
     ]
    }
   ],
   "source": [
    "bean = datasets.load_boston()\n",
    "print(bean.DESCR)"
   ]
  },
  {
   "cell_type": "code",
   "execution_count": 70,
   "metadata": {
    "collapsed": true
   },
   "outputs": [],
   "source": [
    "def load_boston():\n",
    "    scaler = StandardScaler()\n",
    "    boston = datasets.load_boston()\n",
    "    X=boston.data\n",
    "    y=boston.target\n",
    "    X = scaler.fit_transform(X)\n",
    "    return train_test_split(X,y)"
   ]
  },
  {
   "cell_type": "code",
   "execution_count": 71,
   "metadata": {
    "collapsed": true
   },
   "outputs": [],
   "source": [
    "X_train, X_test, y_train, y_test = load_boston()"
   ]
  },
  {
   "cell_type": "code",
   "execution_count": 72,
   "metadata": {},
   "outputs": [
    {
     "data": {
      "text/plain": [
       "(379L, 13L)"
      ]
     },
     "execution_count": 72,
     "metadata": {},
     "output_type": "execute_result"
    }
   ],
   "source": [
    "X_train.shape"
   ]
  },
  {
   "cell_type": "code",
   "execution_count": 73,
   "metadata": {},
   "outputs": [
    {
     "data": {
      "text/plain": [
       "LinearRegression(copy_X=True, fit_intercept=True, n_jobs=1, normalize=False)"
      ]
     },
     "execution_count": 73,
     "metadata": {},
     "output_type": "execute_result"
    }
   ],
   "source": [
    "clf = LinearRegression()\n",
    "clf.fit(X_train, y_train)"
   ]
  },
  {
   "cell_type": "code",
   "execution_count": 74,
   "metadata": {},
   "outputs": [
    {
     "data": {
      "text/plain": [
       "[(17.199999999999999, 14.758818393108733),\n",
       " (12.800000000000001, 13.448520958628283),\n",
       " (16.300000000000001, 12.987556037754853),\n",
       " (25.0, 22.096746829353268),\n",
       " (50.0, 40.880541272713415),\n",
       " (25.0, 23.139287646643325),\n",
       " (19.399999999999999, 23.893389744336783),\n",
       " (10.199999999999999, 17.055257042045184),\n",
       " (21.399999999999999, 22.678557652222764),\n",
       " (12.0, 12.465786523183688),\n",
       " (19.800000000000001, 18.546326878152559),\n",
       " (19.899999999999999, 19.236965197970775),\n",
       " (23.699999999999999, 10.31518114931489),\n",
       " (8.3000000000000007, 10.151848641055224),\n",
       " (24.800000000000001, 26.291052234142654),\n",
       " (16.699999999999999, 19.956510606480936),\n",
       " (19.600000000000001, 24.263372576222366),\n",
       " (24.100000000000001, 30.270229599649472),\n",
       " (43.5, 39.592464064359383),\n",
       " (7.2000000000000002, 17.987023989737491),\n",
       " (24.100000000000001, 20.35989624243259),\n",
       " (5.0, 6.277977823010719),\n",
       " (29.0, 32.017297724298878),\n",
       " (19.699999999999999, 14.273319442216724),\n",
       " (27.5, 32.805018220098091),\n",
       " (28.199999999999999, 33.350266132930216),\n",
       " (24.300000000000001, 30.226780525626772),\n",
       " (20.300000000000001, 22.913694056938876),\n",
       " (27.899999999999999, 21.428224958480932),\n",
       " (17.399999999999999, 15.549593055696478),\n",
       " (17.5, 16.828200800473262),\n",
       " (19.899999999999999, 21.025051241006555),\n",
       " (8.5, 6.971838285940029),\n",
       " (32.0, 34.262572179838884),\n",
       " (20.800000000000001, 19.778014999632706),\n",
       " (23.800000000000001, 25.671179822846206),\n",
       " (10.4, 7.172024503702815),\n",
       " (20.600000000000001, 20.153611134380174),\n",
       " (23.199999999999999, 23.149587407704836),\n",
       " (50.0, 44.763569143282552),\n",
       " (19.800000000000001, 22.962918642369846),\n",
       " (50.0, 43.145246720602728),\n",
       " (31.100000000000001, 32.180953154392782),\n",
       " (19.600000000000001, 19.038310656632611),\n",
       " (22.0, 27.369581205448981),\n",
       " (22.5, 18.049014391024745),\n",
       " (21.5, 25.65662238025017),\n",
       " (22.800000000000001, 29.49451980272503),\n",
       " (18.300000000000001, 21.161784779701939),\n",
       " (22.800000000000001, 24.631768101009349),\n",
       " (19.100000000000001, 17.529973003097432),\n",
       " (21.699999999999999, 24.838300012624053),\n",
       " (20.699999999999999, 21.152867770061),\n",
       " (10.199999999999999, 17.172699099048842),\n",
       " (37.299999999999997, 34.35389226256224),\n",
       " (25.0, 29.343646741396242),\n",
       " (23.300000000000001, 27.173682631502228),\n",
       " (22.300000000000001, 27.164138255856191),\n",
       " (20.300000000000001, 24.141105089727301),\n",
       " (17.100000000000001, 17.271672463803831),\n",
       " (29.899999999999999, 32.031265902822398),\n",
       " (15.0, 19.007620374368422),\n",
       " (15.699999999999999, 14.08618460608692),\n",
       " (22.5, 29.856446501421829),\n",
       " (20.100000000000001, 15.864740288200078),\n",
       " (11.699999999999999, 16.323401131089319),\n",
       " (19.699999999999999, 21.52491347938296),\n",
       " (27.899999999999999, 32.06528112718668),\n",
       " (38.700000000000003, 35.497080946547364),\n",
       " (29.800000000000001, 33.294440334422589),\n",
       " (13.9, 17.540466131078162),\n",
       " (29.100000000000001, 30.684833270595675),\n",
       " (19.399999999999999, 17.535881281067791),\n",
       " (28.399999999999999, 29.093717860687175),\n",
       " (20.399999999999999, 21.13099996076453),\n",
       " (23.600000000000001, 30.035699624795804),\n",
       " (43.799999999999997, 34.601202454304712),\n",
       " (13.800000000000001, 20.8169275512561),\n",
       " (50.0, 35.408767381186848),\n",
       " (16.800000000000001, 21.10458169651038),\n",
       " (18.699999999999999, 21.314013874788326),\n",
       " (31.5, 32.893930519563419),\n",
       " (22.600000000000001, 24.456534271016196),\n",
       " (22.899999999999999, 29.204316802914413),\n",
       " (24.300000000000001, 20.073068235088058),\n",
       " (22.600000000000001, 27.597838041997434),\n",
       " (21.5, 20.402410408998474),\n",
       " (48.799999999999997, 40.62776192461169),\n",
       " (8.8000000000000007, 5.2859703927085846),\n",
       " (24.0, 26.018111879157836),\n",
       " (20.0, 18.953059990826087),\n",
       " (22.0, 28.02668744568836),\n",
       " (26.5, 25.576689001167697),\n",
       " (26.699999999999999, 33.995573271797767),\n",
       " (13.1, 15.646962887970895),\n",
       " (29.399999999999999, 31.135685572515087),\n",
       " (22.199999999999999, 24.312438793301684),\n",
       " (17.800000000000001, 17.686603075750636),\n",
       " (26.399999999999999, 29.216625196044557),\n",
       " (26.600000000000001, 21.407803582727784),\n",
       " (24.600000000000001, 30.117647912143923),\n",
       " (21.0, 20.487494574980516),\n",
       " (23.800000000000001, 24.94766069552405),\n",
       " (20.699999999999999, 26.370331696765994),\n",
       " (16.100000000000001, 22.391155825367512),\n",
       " (11.800000000000001, 8.3732446289246028),\n",
       " (17.300000000000001, 15.750748208490579),\n",
       " (6.2999999999999998, 10.743582945842819),\n",
       " (13.4, 14.246036870594072),\n",
       " (19.300000000000001, 21.683505360485714),\n",
       " (50.0, 40.841954540639236),\n",
       " (19.399999999999999, 26.484294311788286),\n",
       " (22.899999999999999, 25.541824721274022),\n",
       " (25.0, 24.594466950645824),\n",
       " (23.699999999999999, 28.710873398176339),\n",
       " (26.600000000000001, 28.039138331375419),\n",
       " (24.0, 30.553561704311512),\n",
       " (20.300000000000001, 19.872865806136225),\n",
       " (17.100000000000001, 18.84540295326347),\n",
       " (13.1, 20.656629050488302),\n",
       " (18.5, 19.346124449983098),\n",
       " (18.199999999999999, 19.378955979033993),\n",
       " (25.0, 29.312515212997738),\n",
       " (14.300000000000001, 17.255516575642247),\n",
       " (22.100000000000001, 27.318454673641824),\n",
       " (18.399999999999999, 15.579022595480991),\n",
       " (17.199999999999999, 14.652989468145504)]"
      ]
     },
     "execution_count": 74,
     "metadata": {},
     "output_type": "execute_result"
    }
   ],
   "source": [
    "list(zip (y_test, clf.predict(X_test)))"
   ]
  },
  {
   "cell_type": "code",
   "execution_count": 84,
   "metadata": {},
   "outputs": [
    {
     "data": {
      "text/plain": [
       "0.74888233880555566"
      ]
     },
     "execution_count": 84,
     "metadata": {},
     "output_type": "execute_result"
    }
   ],
   "source": [
    "r2_score(y_test, clf.predict(X_test))"
   ]
  },
  {
   "cell_type": "code",
   "execution_count": 85,
   "metadata": {},
   "outputs": [
    {
     "data": {
      "text/plain": [
       "19.954555752005351"
      ]
     },
     "execution_count": 85,
     "metadata": {},
     "output_type": "execute_result"
    }
   ],
   "source": [
    "mean_squared_error(y_test, clf.predict(X_test))"
   ]
  },
  {
   "cell_type": "code",
   "execution_count": 86,
   "metadata": {
    "collapsed": true
   },
   "outputs": [],
   "source": [
    "#Impliment sklearn.linear_model.Lasso\n",
    "from sklearn.linear_model import Lasso"
   ]
  },
  {
   "cell_type": "code",
   "execution_count": 119,
   "metadata": {},
   "outputs": [
    {
     "name": "stdout",
     "output_type": "stream",
     "text": [
      "Lasso(alpha=0.01, copy_X=True, fit_intercept=True, max_iter=1000,\n",
      "   normalize=False, positive=False, precompute=False, random_state=None,\n",
      "   selection='cyclic', tol=0.0001, warm_start=False)\n",
      "r^2: 0.750892\n"
     ]
    }
   ],
   "source": [
    "alpha = 0.01\n",
    "lasso = Lasso(alpha=alpha)\n",
    "\n",
    "y_lassopredict = lasso.fit(X_train, y_train).predict(X_test)\n",
    "r2_lassoscore = r2_score(y_test, y_lassopredict)\n",
    "print(lasso)\n",
    "print(\"r^2: %f\" % r2_lassoscore)"
   ]
  },
  {
   "cell_type": "code",
   "execution_count": 145,
   "metadata": {},
   "outputs": [
    {
     "name": "stdout",
     "output_type": "stream",
     "text": [
      "Lasso(alpha=0.213, copy_X=True, fit_intercept=True, max_iter=1000,\n",
      "   normalize=False, positive=False, precompute=False, random_state=None,\n",
      "   selection='cyclic', tol=0.0001, warm_start=False)\n",
      "r^2: 0.763197\n"
     ]
    }
   ],
   "source": [
    "#Adjust alpha to get the maximum r2 within (0,1)\n",
    "alpha = 0.213\n",
    "lasso = Lasso(alpha=alpha)\n",
    "\n",
    "y_lassopredict = lasso.fit(X_train, y_train).predict(X_test)\n",
    "r2_lassoscore = r2_score(y_test, y_lassopredict)\n",
    "print(lasso)\n",
    "print(\"r^2: %f\" % r2_lassoscore)"
   ]
  },
  {
   "cell_type": "code",
   "execution_count": null,
   "metadata": {
    "collapsed": true
   },
   "outputs": [],
   "source": []
  }
 ],
 "metadata": {
  "kernelspec": {
   "display_name": "Python 2",
   "language": "python",
   "name": "python2"
  },
  "language_info": {
   "codemirror_mode": {
    "name": "ipython",
    "version": 2
   },
   "file_extension": ".py",
   "mimetype": "text/x-python",
   "name": "python",
   "nbconvert_exporter": "python",
   "pygments_lexer": "ipython2",
   "version": "2.7.13"
  }
 },
 "nbformat": 4,
 "nbformat_minor": 2
}
